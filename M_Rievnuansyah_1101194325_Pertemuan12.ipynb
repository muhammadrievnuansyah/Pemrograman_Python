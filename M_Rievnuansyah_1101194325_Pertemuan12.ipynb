{
  "nbformat": 4,
  "nbformat_minor": 0,
  "metadata": {
    "colab": {
      "name": "M.Rievnuansyah_1101194325_Pertemuan12.ipynb",
      "provenance": [],
      "authorship_tag": "ABX9TyNm6o1XqDb9w4Lr/AOnce73",
      "include_colab_link": true
    },
    "kernelspec": {
      "name": "python3",
      "display_name": "Python 3"
    }
  },
  "cells": [
    {
      "cell_type": "markdown",
      "metadata": {
        "id": "view-in-github",
        "colab_type": "text"
      },
      "source": [
        "<a href=\"https://colab.research.google.com/github/muhammadrievnuansyah/Pemrograman_Python/blob/main/M_Rievnuansyah_1101194325_Pertemuan12.ipynb\" target=\"_parent\"><img src=\"https://colab.research.google.com/assets/colab-badge.svg\" alt=\"Open In Colab\"/></a>"
      ]
    },
    {
      "cell_type": "code",
      "metadata": {
        "id": "FpKtlnsuexDU"
      },
      "source": [
        "import numpy as np"
      ],
      "execution_count": null,
      "outputs": []
    },
    {
      "cell_type": "code",
      "metadata": {
        "id": "UigL8O0ie-Rx"
      },
      "source": [
        "y=10*np.log10(100)\r\n",
        "print(y)"
      ],
      "execution_count": null,
      "outputs": []
    },
    {
      "cell_type": "code",
      "metadata": {
        "id": "MBAcalPFfCP0"
      },
      "source": [
        "NtL = lambda x: 10*np.log10(x)"
      ],
      "execution_count": null,
      "outputs": []
    },
    {
      "cell_type": "code",
      "metadata": {
        "id": "jAnlSN_0fEap"
      },
      "source": [
        "z=NtL(100)\r\n",
        "print(z)"
      ],
      "execution_count": null,
      "outputs": []
    },
    {
      "cell_type": "code",
      "metadata": {
        "id": "niKq_AlKfHF6"
      },
      "source": [
        "LtN = lambda x: 10**(x/10)"
      ],
      "execution_count": null,
      "outputs": []
    },
    {
      "cell_type": "code",
      "metadata": {
        "id": "_OVByv3WfLIK"
      },
      "source": [
        "y=LtN(3)\r\n",
        "print(y)"
      ],
      "execution_count": null,
      "outputs": []
    },
    {
      "cell_type": "code",
      "metadata": {
        "id": "6q4PuOSnfM4O"
      },
      "source": [
        "PL = -22.75 + (20*np.log10(500)) + (20*np.log10(1800000000))\r\n",
        "print(PL)"
      ],
      "execution_count": null,
      "outputs": []
    },
    {
      "cell_type": "code",
      "metadata": {
        "id": "K-w-6Q5PfO5p"
      },
      "source": [
        "def ploss(d,f):\r\n",
        "  pldb=-22.75 + (20*np.log10(d)) + (20*np.log10(f))\r\n",
        "  plnum=LtN(-pldb)\r\n",
        "  return pldb,plnum"
      ],
      "execution_count": null,
      "outputs": []
    },
    {
      "cell_type": "code",
      "metadata": {
        "id": "h3g65yuffQZw"
      },
      "source": [
        "pathlossdb, pathlossnum = ploss(150,900000000)\r\n",
        "print(\"pathloss dalam db =\",pathlossdb,\"dB\")"
      ],
      "execution_count": null,
      "outputs": []
    },
    {
      "cell_type": "code",
      "metadata": {
        "id": "SuffUBJWfR0W"
      },
      "source": [
        "def Prx(d,f,Ptx):\r\n",
        "\r\n",
        "  #fungsi menghitung daya terima, input d(jarak(km))\r\n",
        "  #f(frekuensi(MHz)), dan Ptx(daya pancar (W))\r\n",
        "\r\n",
        "  #mengubah Ptx dari Watt ke dBW\r\n",
        "  Pdb = NtL(Ptx)\r\n",
        "\r\n",
        "  #menghitung pathloss\r\n",
        "  pldb= 32.5 + (20*np.log10(d)) + (20*np.log10(f))\r\n",
        "\r\n",
        "  #hitung prx dalam dB\r\n",
        "  prdb=Pdb-pldb\r\n",
        "\r\n",
        "  #ubah daya terima ke bentuk numerik\r\n",
        "  prx=LtN(prdb)\r\n",
        "\r\n",
        "  return prx,prdb"
      ],
      "execution_count": null,
      "outputs": []
    },
    {
      "cell_type": "code",
      "metadata": {
        "id": "jHsbgKVIfUMj"
      },
      "source": [
        "\r\n"
      ],
      "execution_count": null,
      "outputs": []
    },
    {
      "cell_type": "code",
      "metadata": {
        "id": "1ZkqN3evfWkK"
      },
      "source": [
        "PRX,PRDB=Prx(5,700,40)\r\n",
        "print(\"daya terima adalah :\", PRX,\"W\")"
      ],
      "execution_count": null,
      "outputs": []
    },
    {
      "cell_type": "code",
      "metadata": {
        "id": "LRvfBQ10fYOs"
      },
      "source": [
        "def noise(B):\r\n",
        "  #B adalah bandwidth dalam hertz\r\n",
        "  x=LtN(-144)\r\n",
        "  N=x*B\r\n",
        "  return N"
      ],
      "execution_count": null,
      "outputs": []
    },
    {
      "cell_type": "code",
      "metadata": {
        "id": "jofizg9XfZoE"
      },
      "source": [
        "Noise=noise(180000)\r\n",
        "print(Noise)"
      ],
      "execution_count": null,
      "outputs": []
    },
    {
      "cell_type": "code",
      "metadata": {
        "id": "hAaMC1i8fb_o"
      },
      "source": [
        "SNR = PRX/Noise\r\n",
        "print(SNR)"
      ],
      "execution_count": null,
      "outputs": []
    },
    {
      "cell_type": "code",
      "metadata": {
        "id": "vYEPzR_pfdrH"
      },
      "source": [
        "for i in range(400,1500):\r\n",
        "  print(i)"
      ],
      "execution_count": null,
      "outputs": []
    },
    {
      "cell_type": "code",
      "metadata": {
        "id": "eLnJ1Calfgo3"
      },
      "source": [
        "fc=399\r\n",
        "if fc in range(400,1500):\r\n",
        "  print('yes')\r\n",
        "elif :\r\n",
        "  print('no')"
      ],
      "execution_count": null,
      "outputs": []
    }
  ]
}